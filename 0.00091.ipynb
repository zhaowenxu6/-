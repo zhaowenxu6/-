{
 "cells": [
  {
   "cell_type": "markdown",
   "id": "efefdd48",
   "metadata": {},
   "source": [
    "# 导入所需库"
   ]
  },
  {
   "cell_type": "code",
   "execution_count": null,
   "id": "5277266b",
   "metadata": {},
   "outputs": [],
   "source": [
    "import pandas as pd \n",
    "import numpy as np \n",
    "import matplotlib.pyplot as plt\n",
    "from sklearn.ensemble import RandomForestRegressor\n",
    "from sklearn.preprocessing import StandardScaler\n",
    "import lightgbm as lgb\n",
    "from sklearn.model_selection import TimeSeriesSplit\n",
    "from joblib import Parallel, delayed\n",
    "from sklearn.metrics import mean_squared_error"
   ]
  },
  {
   "cell_type": "markdown",
   "id": "8358e4ec",
   "metadata": {},
   "source": [
    "# 导入数据"
   ]
  },
  {
   "cell_type": "code",
   "execution_count": null,
   "id": "9a3fe08f",
   "metadata": {},
   "outputs": [],
   "source": [
    "\n",
    "train_rain = pd.read_csv('./A-雨量水位（2014-2019）.csv')\n",
    "train_runoff = pd.read_csv('./A-入库流量（2014-2019）.csv')\n",
    "test_rain = pd.read_csv('./A-雨量水位（2020-2021）.csv')"
   ]
  },
  {
   "cell_type": "markdown",
   "id": "fb5e6c6c",
   "metadata": {},
   "source": [
    "# 数据预处理"
   ]
  },
  {
   "cell_type": "code",
   "execution_count": null,
   "id": "1fe96671",
   "metadata": {},
   "outputs": [],
   "source": [
    "\n",
    "#去除无关列\n",
    "train_rain = train_rain.drop(columns=['NAME','S','AVGS','MAXS','MINS','SPAN'])\n",
    "train_runoff = train_runoff.drop(columns=['NAME','S','AVGS','MAXS','MINS','SPAN'])\n",
    "test_rain = test_rain.drop(columns=['NAME','S','AVGS','MAXS','MINS','SPAN'])"
   ]
  },
  {
   "cell_type": "code",
   "execution_count": null,
   "id": "d4bb5c74",
   "metadata": {},
   "outputs": [],
   "source": [
    "\n",
    "#由此可知训练集和测试集站点数量不一样\n",
    "print(f\"{train_rain.nunique()}\\n{test_rain.nunique()}\")\n",
    "#先将站点转换为列例如210254，再取相同的站点保存\n",
    "# 列出所有时间列\n",
    "time_columns = ['TIME', 'MAXT','MINT']\n",
    "\n",
    "# 批量转换时间列为 datetime 类型\n",
    "for col in time_columns:\n",
    "    train_rain[col] = pd.to_datetime(train_rain[col])\n",
    "    # 展开雨量数据\n",
    "train_rain = train_rain.pivot_table(index='TIME',\n",
    "                              columns='SENID',\n",
    "                              values='V',\n",
    "                              aggfunc='first')\n",
    "train_rain"
   ]
  },
  {
   "cell_type": "code",
   "execution_count": null,
   "id": "25a52e4d",
   "metadata": {},
   "outputs": [],
   "source": [
    "#测试集一样处理\n",
    "# 列出所有时间列\n",
    "time_columns = ['TIME', 'MAXT','MINT']\n",
    "\n",
    "# 批量转换时间列为 datetime 类型\n",
    "for col in time_columns:\n",
    "    test_rain[col] = pd.to_datetime(test_rain[col])\n",
    "test_rain = test_rain.pivot_table(index='TIME',\n",
    "                              columns='SENID',\n",
    "                              values='V',\n",
    "                              aggfunc='first')\n",
    "test_rain"
   ]
  },
  {
   "cell_type": "code",
   "execution_count": null,
   "id": "30d7e346",
   "metadata": {},
   "outputs": [],
   "source": [
    "#取相同的站点\n",
    "train_rain_colmns = train_rain.columns\n",
    "test_rain_colmns = test_rain.columns\n",
    "common_colmns = train_rain_colmns.intersection(test_rain_colmns)\n",
    "train_rain = train_rain[common_colmns]\n",
    "test_rain = test_rain[common_colmns]"
   ]
  },
  {
   "cell_type": "markdown",
   "id": "8e9bb84b",
   "metadata": {},
   "source": [
    "# 特征工程"
   ]
  },
  {
   "cell_type": "code",
   "execution_count": null,
   "id": "7d056f78",
   "metadata": {},
   "outputs": [],
   "source": [
    "\n",
    "#查看数据的缺失值情况\n",
    "missing_train_v = (train_rain.isnull().sum()/len(train_rain))*100\n",
    "missing_train_v"
   ]
  },
  {
   "cell_type": "code",
   "execution_count": null,
   "id": "53a99f44",
   "metadata": {},
   "outputs": [],
   "source": [
    "\n",
    "# 设置缺失值百分比的阈值\n",
    "threshold = 90  # 例如，设置阈值为90%\n",
    "# 找出缺失值百分比高于阈值的列\n",
    "columns_to_drop = missing_train_v[missing_train_v > threshold].index\n",
    "columns_to_drop"
   ]
  },
  {
   "cell_type": "code",
   "execution_count": null,
   "id": "8077083d",
   "metadata": {},
   "outputs": [],
   "source": [
    "\n",
    "#删除超过阈值的列\n",
    "for col in columns_to_drop:\n",
    "    train_rain = train_rain.drop(columns=[col])\n",
    "for col in columns_to_drop:\n",
    "    test_rain = test_rain.drop(columns=[col])"
   ]
  },
  {
   "cell_type": "code",
   "execution_count": null,
   "id": "fc9cfa7c",
   "metadata": {},
   "outputs": [],
   "source": [
    "\n",
    "train_rain.describe()\n",
    "#发现有很离谱的负数"
   ]
  },
  {
   "cell_type": "code",
   "execution_count": null,
   "id": "bc97b72d",
   "metadata": {},
   "outputs": [],
   "source": [
    "def handle_rain_outliers(series, negative_threshold=-100):\n",
    "    \"\"\"\n",
    "    雨量数据专用异常处理：\n",
    "    1. 保留所有 >=0 的值\n",
    "    2. 将微小负值（>-100）修正为0\n",
    "    3. 将极端负值（<=-100）视为缺失值\n",
    "    4. 线性插值填充缺失值\n",
    "    \"\"\"\n",
    "    # 复制数据避免修改原始Series\n",
    "    s = series.copy()\n",
    "    \n",
    "    # 步骤1: 标记需要处理的异常点\n",
    "    neg_mask = s < 0\n",
    "    \n",
    "    # 步骤2: 微小负值设为0\n",
    "    s.loc[(s >= negative_threshold) & (s < 0)] = 0\n",
    "    \n",
    "    # 步骤3: 极端负值设为NaN\n",
    "    s.loc[s < negative_threshold] = np.nan\n",
    "    \n",
    "    return s\n",
    "\n",
    "# 应用处理\n",
    "train_rain = train_rain.apply(handle_rain_outliers)\n"
   ]
  },
  {
   "cell_type": "code",
   "execution_count": null,
   "id": "9d12a654",
   "metadata": {},
   "outputs": [],
   "source": [
    "# 使用前向填充+线性插值组合\n",
    "train_rain = train_rain.resample(\"15T\").asfreq()\n",
    "train_rain = train_rain.ffill().interpolate(method='linear')\n",
    "print(\"\\n线性插值后的数据：\")\n",
    "print(train_rain)"
   ]
  },
  {
   "cell_type": "code",
   "execution_count": null,
   "id": "43217234",
   "metadata": {},
   "outputs": [],
   "source": [
    "# 添加总雨量列（所有站点之和）\n",
    "train_rain['count'] = train_rain.sum(axis=1)\n",
    "\n",
    "# 验证结果\n",
    "print(\"\\n添加总雨量列后的数据示例：\")\n",
    "print(train_rain[['count']].head())  # 只显示count列的前5行"
   ]
  },
  {
   "cell_type": "code",
   "execution_count": null,
   "id": "402c1424",
   "metadata": {},
   "outputs": [],
   "source": [
    "\n",
    "# 处理所有列的异常值\n",
    "test_rain = test_rain.apply(handle_rain_outliers)\n",
    "\n",
    "print(\"\\n处理异常值后的数据：\")\n",
    "print(test_rain)\n",
    "# 使用前向填充+线性插值组合\n",
    "test_rain = test_rain.resample(\"15T\").asfreq()\n",
    "test_rain = test_rain.ffill().interpolate(method='linear')\n",
    "\n",
    "print(\"\\n线性插值后的数据：\")\n",
    "print(test_rain)\n"
   ]
  },
  {
   "cell_type": "code",
   "execution_count": null,
   "id": "33e73f54",
   "metadata": {},
   "outputs": [],
   "source": [
    "# 添加总雨量列（所有站点之和）\n",
    "test_rain['count'] = test_rain.sum(axis=1)"
   ]
  },
  {
   "cell_type": "code",
   "execution_count": null,
   "id": "855fe2b1",
   "metadata": {},
   "outputs": [],
   "source": [
    "\n",
    "\n",
    "plt.plot(train_rain.index,train_rain['count'])\n",
    "plt.xlabel('Time')\n",
    "plt.ylabel('V')\n",
    "plt.title('Line Chart of Long Time Series Data')\n",
    "plt.show()"
   ]
  },
  {
   "cell_type": "code",
   "execution_count": null,
   "id": "cf8dc016",
   "metadata": {},
   "outputs": [],
   "source": [
    "\n",
    "train_runoff.describe()"
   ]
  },
  {
   "cell_type": "code",
   "execution_count": null,
   "id": "9d5ca511",
   "metadata": {},
   "outputs": [],
   "source": [
    "\n",
    "train_runoff['TIME'] =pd.to_datetime(train_runoff['TIME'])\n",
    "train_runoff.set_index('TIME',inplace=True)\n",
    "\n",
    "# 使用前向填充+线性插值组合\n",
    "train_runoff = train_runoff.resample(\"15T\").asfreq()\n",
    "train_runoff = train_runoff.ffill().interpolate(method='linear')\n",
    "plt.figure(figsize=(10,6))\n",
    "plt.plot(train_runoff.index,train_runoff['V'])\n",
    "plt.title('Runoff Over Time')\n",
    "plt.xlabel('Time')\n",
    "plt.ylabel('Runoff (m^3/s)')\n",
    "plt.show()"
   ]
  },
  {
   "cell_type": "code",
   "execution_count": null,
   "id": "0dcf19a0",
   "metadata": {},
   "outputs": [],
   "source": [
    "\n",
    "merged_data = pd.merge(train_rain,train_runoff,on='TIME',how = 'inner')\n",
    "merged_data"
   ]
  },
  {
   "cell_type": "code",
   "execution_count": null,
   "id": "0ab8dd62",
   "metadata": {},
   "outputs": [],
   "source": [
    "\n",
    "# 计算每个特征与目标变量之间的皮尔逊相关系数\n",
    "correlation_matrix = merged_data.corr()\n",
    "print(\"Correlation matrix:\")\n",
    "print(correlation_matrix)\n",
    "\n",
    "# 提取目标变量与其他特征的相关系数\n",
    "target_correlation = correlation_matrix['V'].drop('V')\n",
    "print(\"\\nCorrelation with target variable:\")\n",
    "print(target_correlation)\n",
    "a = target_correlation.sort_values(ascending=False)\n",
    "a.head(25)"
   ]
  },
  {
   "cell_type": "code",
   "execution_count": null,
   "id": "b9d8b832",
   "metadata": {},
   "outputs": [],
   "source": [
    "\n",
    "# 标记训练和测试数据\n",
    "merged_data['is_test'] = 0\n",
    "test_rain['is_test'] = 1\n",
    "test_rain['V'] = np.nan  # 添加缺失的径流列\n",
    "\n",
    "# 合并数据并按时间排序\n",
    "full_data = pd.concat([merged_data, test_rain]).sort_values('TIME')"
   ]
  },
  {
   "cell_type": "code",
   "execution_count": null,
   "id": "872ed7a5",
   "metadata": {},
   "outputs": [],
   "source": [
    "\n",
    "\n",
    "fixed_columns = ['V', 'SENID', 'is_test', 'AVGV', 'MAXV','MAXT','MINV','MINT','TIME']\n",
    "sites = [col for col in full_data.columns \n",
    "        if col not in fixed_columns \n",
    "        and str(col).isdigit()]\n",
    "\n",
    "# 扩展滞后范围（包含6小时到24小时）\n",
    "lags = [24, 48, 96]  # 对应6小时、12小时、24小时\n",
    "for site in sites:\n",
    "    for lag in lags:\n",
    "        full_data[f'{site}_lag{lag}'] = full_data[site].shift(lag)\n",
    "# 添加过去6小时统计特征\n",
    "window_size = 24  # 6小时窗口\n",
    "for site in sites:\n",
    "    full_data[f'{site}_mean_6h'] = full_data[site].rolling(window=window_size).mean()\n",
    "    full_data[f'{site}_max_6h'] = full_data[site].rolling(window=window_size).max()\n",
    "# 添加时间特征（月份）\n",
    "full_data['month'] = full_data.index.month\n",
    "full_data['month_sin'] = np.sin(2 * np.pi * full_data['month'] / 12)\n",
    "full_data['month_cos'] = np.cos(2 * np.pi * full_data['month'] / 12)\n",
    "full_data['hour'] = full_data.index.hour\n",
    "full_data['week'] = full_data.index.isocalendar().week\n",
    "full_data['hour_sin'] = np.sin(2 * np.pi * full_data['hour'] / 24)\n",
    "full_data['hour_cos'] = np.cos(2 * np.pi * full_data['hour'] / 24)"
   ]
  },
  {
   "cell_type": "code",
   "execution_count": null,
   "id": "e0afe115",
   "metadata": {},
   "outputs": [],
   "source": [
    "\n",
    "# 重新分割训练集和测试集\n",
    "train_processed = full_data[full_data['is_test'] == 0]\n",
    "test_processed = full_data[full_data['is_test'] == 1]\n",
    "\n",
    "# 定义特征列\n",
    "feature_cols = sites + [f'{site}_lag{lag}' for site in sites for lag in lags] + ['month_sin', 'month_cos','hour_sin','hour_cos']\n",
    "X_train = train_processed[feature_cols]\n",
    "y_train = train_processed['V']\n",
    "X_test = test_processed[feature_cols]"
   ]
  },
  {
   "cell_type": "code",
   "execution_count": null,
   "id": "6e52f55a",
   "metadata": {},
   "outputs": [],
   "source": [
    "# 计算每个特征与目标变量之间的皮尔逊相关系数\n",
    "correlation_matrix = train_processed.corr()\n",
    "print(\"Correlation matrix:\")\n",
    "print(correlation_matrix)\n",
    "\n",
    "# 提取目标变量与其他特征的相关系数\n",
    "target_correlation = correlation_matrix['V'].drop('V')\n",
    "print(\"\\nCorrelation with target variable:\")\n",
    "print(target_correlation)\n",
    "a = target_correlation.sort_values(ascending=False)\n",
    "a.head(25)"
   ]
  },
  {
   "cell_type": "code",
   "execution_count": null,
   "id": "261627cc",
   "metadata": {},
   "outputs": [],
   "source": [
    "#筛选特征\n",
    "X = X_train  # 所有特征\n",
    "y = y_train \n",
    "\n",
    "# 使用时序交叉验证\n",
    "tscv = TimeSeriesSplit(n_splits=3)\n",
    "\n",
    "# 特征重要性存储\n",
    "feature_importance = pd.DataFrame(index=X.columns)\n",
    "\n",
    "for fold, (train_idx, val_idx) in enumerate(tscv.split(X)):\n",
    "    X_train, X_val = X.iloc[train_idx], X.iloc[val_idx]\n",
    "    y_train, y_val = y.iloc[train_idx], y.iloc[val_idx]\n",
    "    \n",
    "    # 训练LGBM模型\n",
    "    model = lgb.LGBMRegressor(\n",
    "        n_estimators=300,\n",
    "        learning_rate=0.05,\n",
    "        num_leaves=31,\n",
    "        random_state=42\n",
    "    )\n",
    "    model.fit(X_train, y_train,\n",
    "              eval_set=[(X_val, y_val)],)\n",
    "    \n",
    "    # 记录特征重要性（按信息增益）\n",
    "    fold_importance = pd.Series(model.feature_importances_, \n",
    "                               index=X.columns)\n",
    "    feature_importance[f'fold_{fold}'] = fold_importance\n",
    "\n",
    "# 计算平均重要性\n",
    "feature_importance['mean'] = feature_importance.mean(axis=1)\n",
    "feature_importance = feature_importance.sort_values('mean', ascending=False)\n",
    "\n",
    "# 选择Top70特征\n",
    "selected_features = feature_importance.head(70).index.tolist()\n",
    "print(\"Selected Features (LGBM):\\n\", selected_features)"
   ]
  },
  {
   "cell_type": "code",
   "execution_count": null,
   "id": "a1d166d6",
   "metadata": {},
   "outputs": [],
   "source": [
    "X_test = X_test.loc[:,selected_features]\n",
    "X_train = X_train.loc[:,selected_features]\n",
    "X_val = X_val.loc[:,selected_features]"
   ]
  },
  {
   "cell_type": "code",
   "execution_count": null,
   "id": "b1ef4752",
   "metadata": {},
   "outputs": [],
   "source": [
    "#标准化\n",
    "scaler = StandardScaler()\n",
    "X_test.columns = X_test.columns.astype(str)\n",
    "X_train.columns = X_train.columns.astype(str)\n",
    "X_train_scaled = scaler.fit_transform(X_train)\n",
    "X_test_scaled = scaler.transform(X_test)\n",
    "# 验证集标准化（必须用transform）\n",
    "X_val.columns = X_val.columns.astype(str)\n",
    "X_val_scaled = scaler.transform(X_val)  # 直接应用训练集的均值和标准差"
   ]
  },
  {
   "cell_type": "markdown",
   "id": "ad99fa82",
   "metadata": {},
   "source": [
    "# 模型训练和预测"
   ]
  },
  {
   "cell_type": "code",
   "execution_count": null,
   "id": "16e70bf2",
   "metadata": {},
   "outputs": [],
   "source": [
    "# 定义模型参数\n",
    "params = {\n",
    "    'objective': 'regression',\n",
    "    'metric': 'rmse',\n",
    "    'learning_rate': 0.05,\n",
    "    'num_leaves': 31,\n",
    "    'max_depth': -1,\n",
    "    'min_data_in_leaf': 20,\n",
    "    'feature_fraction': 0.8,\n",
    "    'bagging_freq': 1,\n",
    "    'bagging_fraction': 0.8,\n",
    "    'verbosity': -1\n",
    "}\n",
    "\n",
    "# 创建数据集\n",
    "train_data = lgb.Dataset(X_train_scaled, label=y_train)\n",
    "\n",
    "# 训练模型\n",
    "model = lgb.train(params,\n",
    "                 train_data,\n",
    "                 num_boost_round=1000,\n",
    "                 valid_sets=[train_data])\n",
    "\n",
    "\n"
   ]
  },
  {
   "cell_type": "code",
   "execution_count": null,
   "id": "8a33568c",
   "metadata": {},
   "outputs": [],
   "source": [
    "\n",
    "test_processed['V'] = model.predict(X_test_scaled)\n",
    "test_processed['V']"
   ]
  },
  {
   "cell_type": "markdown",
   "id": "0c9bcd87",
   "metadata": {},
   "source": [
    " # 结果保存"
   ]
  },
  {
   "cell_type": "code",
   "execution_count": null,
   "id": "e5a23622",
   "metadata": {},
   "outputs": [],
   "source": [
    "# 修正结果采样方式（保留所有预测点）\n",
    "predictions = test_processed['V']\n",
    "\n",
    "# 结果后处理（移动平均平滑）\n",
    "predictions = predictions.rolling(window=4, min_periods=1).mean()\n",
    "\n",
    "# 使用列表切片来获取每四个数据中的一个\n",
    "predictions = predictions[::4]\n",
    "\n",
    "print(predictions)\n",
    "predictions.to_csv('predicted_last.csv', index=False)"
   ]
  }
 ],
 "metadata": {
  "kernelspec": {
   "display_name": "Python 3 (ipykernel)",
   "language": "python",
   "name": "python3"
  },
  "language_info": {
   "codemirror_mode": {
    "name": "ipython",
    "version": 3
   },
   "file_extension": ".py",
   "mimetype": "text/x-python",
   "name": "python",
   "nbconvert_exporter": "python",
   "pygments_lexer": "ipython3",
   "version": "3.11.5"
  },
  "toc": {
   "base_numbering": 1,
   "nav_menu": {},
   "number_sections": true,
   "sideBar": true,
   "skip_h1_title": false,
   "title_cell": "Table of Contents",
   "title_sidebar": "Contents",
   "toc_cell": false,
   "toc_position": {},
   "toc_section_display": true,
   "toc_window_display": false
  }
 },
 "nbformat": 4,
 "nbformat_minor": 5
}
